{
  "cells": [
    {
      "cell_type": "markdown",
      "metadata": {
        "id": "view-in-github",
        "colab_type": "text"
      },
      "source": [
        "<a href=\"https://colab.research.google.com/github/satria080503/MachineLearning_Ganjil2023/blob/main/Jobsheet4_Lab.ipynb\" target=\"_parent\"><img src=\"https://colab.research.google.com/assets/colab-badge.svg\" alt=\"Open In Colab\"/></a>"
      ]
    },
    {
      "cell_type": "markdown",
      "metadata": {
        "id": "-G-j6i_EXegX"
      },
      "source": [
        "LAB WORK 1"
      ]
    },
    {
      "cell_type": "markdown",
      "metadata": {
        "id": "om_BM5EeXega"
      },
      "source": [
        "MULTINOMINAL NAIVES BAYES MODEL"
      ]
    },
    {
      "cell_type": "markdown",
      "metadata": {
        "id": "T-KiMZ-IXegb"
      },
      "source": [
        "    Steps 1 - Creating Dummy Data"
      ]
    },
    {
      "cell_type": "code",
      "execution_count": null,
      "metadata": {
        "id": "FTOWPzS1Xegc",
        "outputId": "9279c23a-7f68-4e0b-820e-8e4e7d4b22c1"
      },
      "outputs": [
        {
          "name": "stdout",
          "output_type": "stream",
          "text": [
            "[[ 79  55]\n",
            " [ 83  61]\n",
            " [ 96  48]\n",
            " [ 79  97]\n",
            " [ 89  36]\n",
            " [112 225]\n",
            " [ 91  33]\n",
            " [110 194]\n",
            " [147 117]\n",
            " [ 49  97]\n",
            " [120 167]\n",
            " [ 63  17]\n",
            " [171 239]\n",
            " [107  98]\n",
            " [ 28 127]\n",
            " [ 41  71]\n",
            " [163 108]\n",
            " [102  71]\n",
            " [117  50]\n",
            " [ 46  53]\n",
            " [ 49 182]\n",
            " [ 73  87]\n",
            " [ 11 126]\n",
            " [198  33]\n",
            " [153  64]\n",
            " [ 77 115]\n",
            " [221  17]\n",
            " [175  49]\n",
            " [110  93]\n",
            " [ 80 113]]\n",
            "[0 0 0 0 0 0 0 0 1 1 1 1 1 1 1 1 0 0 0 0 0 0 0 1 1 1 1 1 1 1]\n"
          ]
        }
      ],
      "source": [
        "import numpy as np\n",
        "from sklearn.datasets import make_classification\n",
        "\n",
        "# Create dummy data\n",
        "X,y = make_classification(n_samples=30, n_features=2, n_classes=2, n_informative=2, n_redundant=0, n_repeated=0, shuffle=False)\n",
        "\n",
        "# By default, make_classification function produce features in floating point\n",
        "# In this case, we want to make it as integer value\n",
        "\n",
        "# Convert to absolute point\n",
        "X = np.absolute(X)\n",
        "\n",
        "# Round to 2 decimal place\n",
        "X = np.round(X, 2) * 100\n",
        "\n",
        "# Convert to interger\n",
        "X = X.astype(int)\n",
        "print(X)\n",
        "print(y)"
      ]
    },
    {
      "cell_type": "markdown",
      "metadata": {
        "id": "yRX4IdRcXegd"
      },
      "source": [
        "(Optional) Creating DataFrame"
      ]
    },
    {
      "cell_type": "code",
      "execution_count": null,
      "metadata": {
        "id": "WzYXuvFLXege",
        "outputId": "bb8649f2-0c30-4bef-8846-645c1952e354"
      },
      "outputs": [
        {
          "data": {
            "text/html": [
              "<div>\n",
              "<style scoped>\n",
              "    .dataframe tbody tr th:only-of-type {\n",
              "        vertical-align: middle;\n",
              "    }\n",
              "\n",
              "    .dataframe tbody tr th {\n",
              "        vertical-align: top;\n",
              "    }\n",
              "\n",
              "    .dataframe thead th {\n",
              "        text-align: right;\n",
              "    }\n",
              "</style>\n",
              "<table border=\"1\" class=\"dataframe\">\n",
              "  <thead>\n",
              "    <tr style=\"text-align: right;\">\n",
              "      <th></th>\n",
              "      <th>Feature 1</th>\n",
              "      <th>Feature 2</th>\n",
              "      <th>Label</th>\n",
              "    </tr>\n",
              "  </thead>\n",
              "  <tbody>\n",
              "    <tr>\n",
              "      <th>0</th>\n",
              "      <td>79</td>\n",
              "      <td>55</td>\n",
              "      <td>0</td>\n",
              "    </tr>\n",
              "    <tr>\n",
              "      <th>1</th>\n",
              "      <td>83</td>\n",
              "      <td>61</td>\n",
              "      <td>0</td>\n",
              "    </tr>\n",
              "    <tr>\n",
              "      <th>2</th>\n",
              "      <td>96</td>\n",
              "      <td>48</td>\n",
              "      <td>0</td>\n",
              "    </tr>\n",
              "    <tr>\n",
              "      <th>3</th>\n",
              "      <td>79</td>\n",
              "      <td>97</td>\n",
              "      <td>0</td>\n",
              "    </tr>\n",
              "    <tr>\n",
              "      <th>4</th>\n",
              "      <td>89</td>\n",
              "      <td>36</td>\n",
              "      <td>0</td>\n",
              "    </tr>\n",
              "  </tbody>\n",
              "</table>\n",
              "</div>"
            ],
            "text/plain": [
              "   Feature 1  Feature 2  Label\n",
              "0         79         55      0\n",
              "1         83         61      0\n",
              "2         96         48      0\n",
              "3         79         97      0\n",
              "4         89         36      0"
            ]
          },
          "execution_count": 3,
          "metadata": {},
          "output_type": "execute_result"
        }
      ],
      "source": [
        "import pandas as pd\n",
        "\n",
        "# We need to reshape the label 'y' to 2d array\n",
        "y_new = y.reshape(len(y), 1)\n",
        "\n",
        "# Concatenate features and labels\n",
        "data = np.concatenate((X, y_new), axis=1)\n",
        "\n",
        "# Create a list of columns name\n",
        "nama_kolom = ['Feature 1', 'Feature 2', 'Label']\n",
        "\n",
        "# Create Pandas DataFrame\n",
        "df = pd.DataFrame(data, columns=nama_kolom)\n",
        "\n",
        "# Check DataFrame\n",
        "df.head()"
      ]
    },
    {
      "cell_type": "markdown",
      "metadata": {
        "id": "n_fizfu2Xege"
      },
      "source": [
        "    Steps 2 - Convert Label to Categorical Value"
      ]
    },
    {
      "cell_type": "code",
      "execution_count": null,
      "metadata": {
        "id": "s2fc475sXege",
        "outputId": "54a03726-c9bb-4ddb-da05-be301a74bca3"
      },
      "outputs": [
        {
          "data": {
            "text/html": [
              "<div>\n",
              "<style scoped>\n",
              "    .dataframe tbody tr th:only-of-type {\n",
              "        vertical-align: middle;\n",
              "    }\n",
              "\n",
              "    .dataframe tbody tr th {\n",
              "        vertical-align: top;\n",
              "    }\n",
              "\n",
              "    .dataframe thead th {\n",
              "        text-align: right;\n",
              "    }\n",
              "</style>\n",
              "<table border=\"1\" class=\"dataframe\">\n",
              "  <thead>\n",
              "    <tr style=\"text-align: right;\">\n",
              "      <th></th>\n",
              "      <th>Feature 1</th>\n",
              "      <th>Feature 2</th>\n",
              "      <th>Label</th>\n",
              "    </tr>\n",
              "  </thead>\n",
              "  <tbody>\n",
              "    <tr>\n",
              "      <th>0</th>\n",
              "      <td>79</td>\n",
              "      <td>55</td>\n",
              "      <td>Kelas B</td>\n",
              "    </tr>\n",
              "    <tr>\n",
              "      <th>1</th>\n",
              "      <td>83</td>\n",
              "      <td>61</td>\n",
              "      <td>Kelas B</td>\n",
              "    </tr>\n",
              "    <tr>\n",
              "      <th>2</th>\n",
              "      <td>96</td>\n",
              "      <td>48</td>\n",
              "      <td>Kelas B</td>\n",
              "    </tr>\n",
              "    <tr>\n",
              "      <th>3</th>\n",
              "      <td>79</td>\n",
              "      <td>97</td>\n",
              "      <td>Kelas B</td>\n",
              "    </tr>\n",
              "    <tr>\n",
              "      <th>4</th>\n",
              "      <td>89</td>\n",
              "      <td>36</td>\n",
              "      <td>Kelas B</td>\n",
              "    </tr>\n",
              "  </tbody>\n",
              "</table>\n",
              "</div>"
            ],
            "text/plain": [
              "   Feature 1  Feature 2    Label\n",
              "0         79         55  Kelas B\n",
              "1         83         61  Kelas B\n",
              "2         96         48  Kelas B\n",
              "3         79         97  Kelas B\n",
              "4         89         36  Kelas B"
            ]
          },
          "execution_count": 4,
          "metadata": {},
          "output_type": "execute_result"
        }
      ],
      "source": [
        "# Define categorical label\n",
        "labels = {\n",
        "    1 : 'Kelas A',\n",
        "    0 : 'Kelas B'\n",
        "}\n",
        "\n",
        "# Duplicate DataFrame\n",
        "df_label = df.copy()\n",
        "\n",
        "# Map new label to encoded label\n",
        "df_label['Label'] = df_label['Label'].map(labels)\n",
        "\n",
        "# Check\n",
        "df_label.head()"
      ]
    },
    {
      "cell_type": "code",
      "execution_count": null,
      "metadata": {
        "id": "hsrnNY7BXegf",
        "outputId": "29f460c4-7128-4c68-bd1f-389fea744d73"
      },
      "outputs": [
        {
          "data": {
            "image/png": "[encoded data removed]",
            "text/plain": [
              "<Figure size 640x480 with 1 Axes>"
            ]
          },
          "metadata": {},
          "output_type": "display_data"
        }
      ],
      "source": [
        "import matplotlib.pyplot as plt\n",
        "\n",
        "# Define the color for each class\n",
        "colors = {\n",
        "    'class_a': 'MediumVioletRed',\n",
        "    'class_b': 'Navy'\n",
        "}\n",
        "\n",
        "# Group by Label\n",
        "gb = df_label.groupby(['Label'])\n",
        "class_a = gb.get_group('Kelas A')\n",
        "class_b = gb.get_group('Kelas B')\n",
        "\n",
        "# Plot\n",
        "plt.scatter(x=class_a['Feature 1'], y=class_a['Feature 2'], c=colors['class_a'])\n",
        "plt.scatter(x=class_b['Feature 1'], y=class_b['Feature 2'], c=colors['class_b'])\n",
        "plt.xlabel('Feature 1')\n",
        "plt.ylabel('Feature 2')\n",
        "plt.legend(['Kelas A', 'Kelas B'])\n",
        "plt.gca().axes.xaxis.set_ticklabels([])\n",
        "plt.gca().axes.yaxis.set_ticklabels([])\n",
        "plt.show()"
      ]
    },
    {
      "cell_type": "markdown",
      "metadata": {
        "id": "IJiMJYGdXegf"
      },
      "source": [
        "    Steps 3 - Create Multinominal Naive Bayes Model"
      ]
    },
    {
      "cell_type": "code",
      "execution_count": null,
      "metadata": {
        "id": "xUVjz4QqXegf"
      },
      "outputs": [],
      "source": [
        "from sklearn.naive_bayes import MultinomialNB\n",
        "from sklearn.model_selection import train_test_split\n",
        "\n",
        "# Initiate the MultinomialNB object\n",
        "mnb = MultinomialNB()\n",
        "\n",
        "# We can use X and y from data dummy directly\n",
        "\n",
        "# Split data into training data and testing data\n",
        "X_train, X_test, y_train, y_test = train_test_split(X,y, test_size=0.3, random_state=30)\n",
        "\n",
        "# Fitting model\n",
        "# Label y should be in 1D arraylike form\n",
        "mnb.fit(X_train, y_train)\n",
        "\n",
        "# Make a prediction from train data\n",
        "y_train_pred = mnb.predict(X_train)\n",
        "\n",
        "# Make a prediction from test data\n",
        "y_test_pred = mnb.predict(X_test)"
      ]
    },
    {
      "cell_type": "markdown",
      "metadata": {
        "id": "tx804Or_Xegg"
      },
      "source": [
        "    Steps 4 - Model Evaluation"
      ]
    },
    {
      "cell_type": "code",
      "execution_count": null,
      "metadata": {
        "id": "bEsmA5cvXegg",
        "outputId": "2bc70f48-bd7b-4c87-c5d0-c37cabcb5f09"
      },
      "outputs": [
        {
          "name": "stdout",
          "output_type": "stream",
          "text": [
            "Hasil akurasi data train: 0.5238095238095238\n",
            "Hasil akurasi data test: 0.4444444444444444\n"
          ]
        }
      ],
      "source": [
        "from sklearn.metrics import accuracy_score\n",
        "\n",
        "# training accuracy\n",
        "acc_train = accuracy_score(y_train, y_train_pred)\n",
        "\n",
        "# testing accuracy\n",
        "acc_test = accuracy_score(y_test, y_test_pred)\n",
        "\n",
        "# Model evaluation on accuracy\n",
        "print(f'Hasil akurasi data train: {acc_train}')\n",
        "print(f'Hasil akurasi data test: {acc_test}')"
      ]
    },
    {
      "cell_type": "markdown",
      "metadata": {
        "id": "vUhgUfyJXegg"
      },
      "source": [
        "Gussian Naive Bayes Model"
      ]
    },
    {
      "cell_type": "code",
      "execution_count": null,
      "metadata": {
        "id": "CDrbXMKAXegg",
        "outputId": "b956f6f1-4c71-4b68-faef-2ddd50162ba6"
      },
      "outputs": [
        {
          "name": "stdout",
          "output_type": "stream",
          "text": [
            "Train Accuracy (Gaussian): 0.7142857142857143\n",
            "Test Accuracy (Gaussian): 0.5555555555555556\n"
          ]
        }
      ],
      "source": [
        "from sklearn.naive_bayes import GaussianNB\n",
        "\n",
        "# Initiati GaussianNB object\n",
        "gnb = GaussianNB()\n",
        "\n",
        "# We will use the training and testing data from previous model\n",
        "\n",
        "# Fit model\n",
        "gnb.fit(X_train, y_train)\n",
        "\n",
        "# Make a prediction using training data\n",
        "y_train_pred_gnb = gnb.predict(X_train)\n",
        "\n",
        "# Evaluate training data accuracy\n",
        "acc_train_gnb = accuracy_score(y_train, y_train_pred_gnb)\n",
        "\n",
        "# Make a prediction using testing data\n",
        "y_test_pred_gnb = gnb.predict(X_test)\n",
        "\n",
        "# Evaluate testing data accuracy\n",
        "acc_test_gnb = accuracy_score(y_test, y_test_pred_gnb)\n",
        "\n",
        "# Print model evaluation\n",
        "print(f'Train Accuracy (Gaussian): {acc_train_gnb}')\n",
        "print(f'Test Accuracy (Gaussian): {acc_test_gnb}')"
      ]
    },
    {
      "cell_type": "markdown",
      "metadata": {
        "id": "vUKA8eesXegh"
      },
      "source": [
        "LAB WORK 2"
      ]
    },
    {
      "cell_type": "markdown",
      "metadata": {
        "id": "NpTqnmboXegh"
      },
      "source": [
        "    Steps 1 - Load Data"
      ]
    },
    {
      "cell_type": "code",
      "execution_count": null,
      "metadata": {
        "id": "o6_0fNAZXegh",
        "outputId": "125fd18f-4972-4029-f3c8-07fcef20975d"
      },
      "outputs": [
        {
          "data": {
            "text/html": [
              "<div>\n",
              "<style scoped>\n",
              "    .dataframe tbody tr th:only-of-type {\n",
              "        vertical-align: middle;\n",
              "    }\n",
              "\n",
              "    .dataframe tbody tr th {\n",
              "        vertical-align: top;\n",
              "    }\n",
              "\n",
              "    .dataframe thead th {\n",
              "        text-align: right;\n",
              "    }\n",
              "</style>\n",
              "<table border=\"1\" class=\"dataframe\">\n",
              "  <thead>\n",
              "    <tr style=\"text-align: right;\">\n",
              "      <th></th>\n",
              "      <th>v1</th>\n",
              "      <th>v2</th>\n",
              "      <th>Unnamed: 2</th>\n",
              "      <th>Unnamed: 3</th>\n",
              "      <th>Unnamed: 4</th>\n",
              "    </tr>\n",
              "  </thead>\n",
              "  <tbody>\n",
              "    <tr>\n",
              "      <th>0</th>\n",
              "      <td>ham</td>\n",
              "      <td>Go until jurong point, crazy.. Available only ...</td>\n",
              "      <td>NaN</td>\n",
              "      <td>NaN</td>\n",
              "      <td>NaN</td>\n",
              "    </tr>\n",
              "    <tr>\n",
              "      <th>1</th>\n",
              "      <td>ham</td>\n",
              "      <td>Ok lar... Joking wif u oni...</td>\n",
              "      <td>NaN</td>\n",
              "      <td>NaN</td>\n",
              "      <td>NaN</td>\n",
              "    </tr>\n",
              "    <tr>\n",
              "      <th>2</th>\n",
              "      <td>spam</td>\n",
              "      <td>Free entry in 2 a wkly comp to win FA Cup fina...</td>\n",
              "      <td>NaN</td>\n",
              "      <td>NaN</td>\n",
              "      <td>NaN</td>\n",
              "    </tr>\n",
              "    <tr>\n",
              "      <th>3</th>\n",
              "      <td>ham</td>\n",
              "      <td>U dun say so early hor... U c already then say...</td>\n",
              "      <td>NaN</td>\n",
              "      <td>NaN</td>\n",
              "      <td>NaN</td>\n",
              "    </tr>\n",
              "    <tr>\n",
              "      <th>4</th>\n",
              "      <td>ham</td>\n",
              "      <td>Nah I don't think he goes to usf, he lives aro...</td>\n",
              "      <td>NaN</td>\n",
              "      <td>NaN</td>\n",
              "      <td>NaN</td>\n",
              "    </tr>\n",
              "  </tbody>\n",
              "</table>\n",
              "</div>"
            ],
            "text/plain": [
              "     v1                                                 v2 Unnamed: 2  \\\n",
              "0   ham  Go until jurong point, crazy.. Available only ...        NaN   \n",
              "1   ham                      Ok lar... Joking wif u oni...        NaN   \n",
              "2  spam  Free entry in 2 a wkly comp to win FA Cup fina...        NaN   \n",
              "3   ham  U dun say so early hor... U c already then say...        NaN   \n",
              "4   ham  Nah I don't think he goes to usf, he lives aro...        NaN   \n",
              "\n",
              "  Unnamed: 3 Unnamed: 4  \n",
              "0        NaN        NaN  \n",
              "1        NaN        NaN  \n",
              "2        NaN        NaN  \n",
              "3        NaN        NaN  \n",
              "4        NaN        NaN  "
            ]
          },
          "execution_count": 14,
          "metadata": {},
          "output_type": "execute_result"
        }
      ],
      "source": [
        "import numpy as np\n",
        "import pandas as pd\n",
        "\n",
        "# Load data with specific encoding due data doesn't use utf-8 encoding\n",
        "dataset = 'C:\\Machine Learning\\week4\\spam.csv'\n",
        "df = pd.read_csv(dataset, encoding='latin-1')\n",
        "\n",
        "# Check\n",
        "df.head()"
      ]
    },
    {
      "cell_type": "markdown",
      "metadata": {
        "id": "NU1BBRexXegh"
      },
      "source": [
        "    Steps 2 - Preprocessing"
      ]
    },
    {
      "cell_type": "markdown",
      "metadata": {
        "id": "p7eGcfgKXegh"
      },
      "source": [
        "Step 2.1 -  Drop Unecessary Column"
      ]
    },
    {
      "cell_type": "code",
      "execution_count": null,
      "metadata": {
        "id": "oQ0NE1pOXegi"
      },
      "outputs": [],
      "source": [
        "# dt.iloc(:0:1)\n",
        "# Drop last 3 columns\n",
        "df = df.drop(df.iloc[:,2:], axis=1)\n",
        "\n",
        "# Check\n",
        "df.head()"
      ]
    },
    {
      "cell_type": "markdown",
      "metadata": {
        "id": "e993qemsXegi"
      },
      "source": [
        "Step 2.2 - Rename Columns Name"
      ]
    },
    {
      "cell_type": "code",
      "execution_count": null,
      "metadata": {
        "id": "CvPC_oDZXegi"
      },
      "outputs": [],
      "source": [
        "# Rename \"v1\" and \"v2\"\n",
        "new_cols = {\n",
        "    'v1': 'Labels',\n",
        "    'v2': 'SMS'\n",
        "}\n",
        "\n",
        "# Do renaming columns\n",
        "df = df.rename(columns=new_cols)\n",
        "\n",
        "# Check\n",
        "df.head()"
      ]
    },
    {
      "cell_type": "markdown",
      "metadata": {
        "id": "kKAPJlhBXegi"
      },
      "source": [
        "Step 2.3 - Data Inspection"
      ]
    },
    {
      "cell_type": "code",
      "execution_count": null,
      "metadata": {
        "id": "N15s-mU-Xegi"
      },
      "outputs": [],
      "source": [
        "# Check data per class\n",
        "print(df['Labels'].value_counts())\n",
        "print('\\n')\n",
        "\n",
        "# Check general information\n",
        "print(df.info())\n",
        "print('\\n')\n",
        "\n",
        "# Check Descriptive Statistic Information\n",
        "print(df.describe())"
      ]
    },
    {
      "cell_type": "markdown",
      "metadata": {
        "id": "RqPmA0oRXegi"
      },
      "source": [
        "Step 2.4 - Label Encoding"
      ]
    },
    {
      "cell_type": "code",
      "execution_count": null,
      "metadata": {
        "id": "MiTJhdpFXegj"
      },
      "outputs": [],
      "source": [
        "# Prepare the labels\n",
        "new_labels = {\n",
        "    'spam': 1,\n",
        "    'ham': 0\n",
        "}\n",
        "\n",
        "# Encode\n",
        "df['Labels'] = df['Labels'].map(new_labels)\n",
        "\n",
        "# Check\n",
        "df.head()"
      ]
    },
    {
      "cell_type": "markdown",
      "metadata": {
        "id": "optu1zvFXegj"
      },
      "source": [
        "Step 2.5 - Split Features and Labels"
      ]
    },
    {
      "cell_type": "code",
      "execution_count": null,
      "metadata": {
        "id": "0zZT08HPXegj"
      },
      "outputs": [],
      "source": [
        "X = df['SMS'].values\n",
        "y = df['Labels'].values"
      ]
    },
    {
      "cell_type": "markdown",
      "metadata": {
        "id": "ehLEsAfhXegj"
      },
      "source": [
        "    Step 3 - Features and Extraction"
      ]
    },
    {
      "cell_type": "code",
      "execution_count": null,
      "metadata": {
        "id": "jf3YbZHMXegj"
      },
      "outputs": [],
      "source": [
        "from sklearn.model_selection import train_test_split\n",
        "from sklearn.feature_extraction.text import CountVectorizer\n",
        "\n",
        "# Split data training dan testing\n",
        "X_train, X_test, y_train, y_test = train_test_split(X, y, test_size=0.2, random_state=50)\n",
        "\n",
        "# Initaite CountVectorizer\n",
        "bow = CountVectorizer()\n",
        "\n",
        "# Fitting and transform X_train using CountVectorizer\n",
        "X_train = bow.fit_transform(X_train)\n",
        "\n",
        "# Transform X_test\n",
        "# Why just transform? The reason is the same as in the third experiment.\n",
        "# We don't want the model to know the parameters used by CountVectorizer for fitting the X_train data.\n",
        "# Thus, the testing data can remain unfamiliar to the model.\n",
        "X_test = bow.transform(X_test)"
      ]
    },
    {
      "cell_type": "code",
      "execution_count": null,
      "metadata": {
        "id": "_W2G9pdfXegj"
      },
      "outputs": [],
      "source": [
        "print(len(bow.get_feature_names_out()))\n",
        "print(f'Dimensi data: {X_train.shape}')"
      ]
    },
    {
      "cell_type": "markdown",
      "metadata": {
        "id": "3Evy1YVXXegk"
      },
      "source": [
        "Training and  Evaluation"
      ]
    },
    {
      "cell_type": "code",
      "execution_count": null,
      "metadata": {
        "id": "nzf9sXQhXegk",
        "outputId": "b660972f-7f7e-43c4-c2e0-9379853d2b67"
      },
      "outputs": [
        {
          "name": "stdout",
          "output_type": "stream",
          "text": [
            "Training Accuracy: 0.5238095238095238\n",
            "Testing Accuracy: 0.4444444444444444\n"
          ]
        }
      ],
      "source": [
        "from sklearn.naive_bayes import MultinomialNB\n",
        "from sklearn.metrics import accuracy_score\n",
        "\n",
        "# Initiate MultinomialNB\n",
        "mnb = MultinomialNB()\n",
        "\n",
        "# Fit model\n",
        "mnb.fit(X_train, y_train)\n",
        "\n",
        "# Make a prediction using training data\n",
        "y_pred_train = mnb.predict(X_train)\n",
        "\n",
        "# Evaluate training data\n",
        "acc_train = accuracy_score(y_train, y_pred_train)\n",
        "\n",
        "# Make a prediction using testing data\n",
        "y_pred_test = mnb.predict(X_test)\n",
        "\n",
        "# Evaluate testing data\n",
        "acc_test = accuracy_score(y_test, y_pred_test)\n",
        "\n",
        "# Print model evaluation\n",
        "print(f'Training Accuracy: {acc_train}')\n",
        "print(f'Testing Accuracy: {acc_test}')"
      ]
    },
    {
      "cell_type": "markdown",
      "metadata": {
        "id": "vqCX_yJ7Xegk"
      },
      "source": [
        "Lab Work 3"
      ]
    },
    {
      "cell_type": "markdown",
      "metadata": {
        "id": "S_jtgoaTXegk"
      },
      "source": [
        "Step 0 - Import Library"
      ]
    },
    {
      "cell_type": "code",
      "execution_count": null,
      "metadata": {
        "id": "utl_5A8KXegk"
      },
      "outputs": [],
      "source": [
        "# import library\n",
        "import numpy as np\n",
        "import matplotlib.pyplot as plt\n",
        "from scipy import stats\n",
        "import seaborn as sns"
      ]
    },
    {
      "cell_type": "markdown",
      "metadata": {
        "id": "vPJLdxmBXegl"
      },
      "source": [
        "Step 1 - Create Dummys"
      ]
    },
    {
      "cell_type": "code",
      "execution_count": null,
      "metadata": {
        "id": "7-ZuK4aPXegl"
      },
      "outputs": [],
      "source": [
        "from sklearn.datasets import make_blobs\n",
        "\n",
        "X, y = make_blobs(n_samples=50, centers=2,\n",
        "                  random_state=0, cluster_std=0.60)\n",
        "plt.scatter(X[:, 0], X[:, 1], c=y, s=50, cmap='autumn')"
      ]
    },
    {
      "cell_type": "markdown",
      "metadata": {
        "id": "yN3fkrl_Xegp"
      },
      "source": [
        "Step 2 - Create Decision Boundaries"
      ]
    },
    {
      "cell_type": "code",
      "execution_count": null,
      "metadata": {
        "id": "_eJf2X55Xegp"
      },
      "outputs": [],
      "source": [
        "xfit = np.linspace(-1, 3.5)\n",
        "plt.scatter(X[:, 0], X[:, 1], c=y, s=50, cmap='autumn')\n",
        "plt.plot([0.6], [2.1], 'x', color='red', markeredgewidth=2, markersize=10)\n",
        "\n",
        "for m, b in [(1, 0.65), (0.5, 1.6), (-0.2, 2.9)]:\n",
        "    plt.plot(xfit, m * xfit + b, '-k')\n",
        "\n",
        "plt.xlim(-1, 3.5)"
      ]
    },
    {
      "cell_type": "markdown",
      "metadata": {
        "id": "lgAA0MaoXegp"
      },
      "source": [
        "Step 3 - Create"
      ]
    },
    {
      "cell_type": "code",
      "execution_count": null,
      "metadata": {
        "id": "sjNc27PFXegq"
      },
      "outputs": [],
      "source": [
        "xfit = np.linspace(-1, 3.5)\n",
        "plt.scatter(X[:, 0], X[:, 1], c=y, s=50, cmap='autumn')\n",
        "\n",
        "for m, b, d in [(1, 0.65, 0.33), (0.5, 1.6, 0.55), (-0.2, 2.9, 0.2)]:\n",
        "    yfit = m * xfit + b\n",
        "    plt.plot(xfit, yfit, '-k')\n",
        "    plt.fill_between(xfit, yfit - d, yfit + d, edgecolor='none',\n",
        "                     color='#AAAAAA', alpha=0.4)\n",
        "\n",
        "plt.xlim(-1, 3.5)"
      ]
    },
    {
      "cell_type": "markdown",
      "metadata": {
        "id": "IIzMuLjyXegq"
      },
      "source": [
        "Step 4 - Model Fitting"
      ]
    },
    {
      "cell_type": "code",
      "execution_count": null,
      "metadata": {
        "id": "_M8aKKRNXegq"
      },
      "outputs": [],
      "source": [
        "from sklearn.svm import SVC # \"Support vector classifier\"\n",
        "\n",
        "# Initaite SVC object\n",
        "model = SVC(kernel='linear', C=1E10)\n",
        "\n",
        "# Fitting\n",
        "model.fit(X, y)"
      ]
    },
    {
      "cell_type": "markdown",
      "metadata": {
        "id": "LUTawvI2Xegq"
      },
      "source": [
        "Step 4.1 - Visualize Fitting Model"
      ]
    },
    {
      "cell_type": "code",
      "execution_count": null,
      "metadata": {
        "id": "CmoHpBAZXegq"
      },
      "outputs": [],
      "source": [
        "# create a function to plot decision boundary\n",
        "\n",
        "def plot_svc_decision_function(model, ax=None, plot_support=True):\n",
        "\n",
        "    if ax is None:\n",
        "        ax = plt.gca()\n",
        "    xlim = ax.get_xlim()\n",
        "    ylim = ax.get_ylim()\n",
        "\n",
        "    # buat grid untuk evaluasi model\n",
        "    x = np.linspace(xlim[0], xlim[1], 30)\n",
        "    y = np.linspace(ylim[0], ylim[1], 30)\n",
        "    Y, X = np.meshgrid(y, x)\n",
        "    xy = np.vstack([X.ravel(), Y.ravel()]).T\n",
        "    P = model.decision_function(xy).reshape(X.shape)\n",
        "\n",
        "    # plot batas dan margin\n",
        "    ax.contour(X, Y, P, colors='k',\n",
        "               levels=[-1, 0, 1], alpha=0.5,\n",
        "               linestyles=['--', '-', '--'])\n",
        "\n",
        "    # plot support vectors\n",
        "    if plot_support:\n",
        "        ax.scatter(model.support_vectors_[:, 0],\n",
        "                   model.support_vectors_[:, 1],\n",
        "                   s=300, linewidth=1, facecolors='none');\n",
        "    ax.set_xlim(xlim)\n",
        "    ax.set_ylim(ylim)"
      ]
    },
    {
      "cell_type": "code",
      "execution_count": null,
      "metadata": {
        "id": "QfhirPUAXegr"
      },
      "outputs": [],
      "source": [
        "plt.scatter(X[:, 0], X[:, 1], c=y, s=50, cmap='autumn')\n",
        "plot_svc_decision_function(model)"
      ]
    },
    {
      "cell_type": "markdown",
      "metadata": {
        "id": "Ls5U90nuXegr"
      },
      "source": [
        "Several data points that touch (enter) the area around the line are referred to as support vectors"
      ]
    },
    {
      "cell_type": "code",
      "execution_count": null,
      "metadata": {
        "id": "bshLVAyRXegr"
      },
      "outputs": [],
      "source": [
        "model.support_vectors_"
      ]
    },
    {
      "cell_type": "code",
      "execution_count": null,
      "metadata": {
        "id": "2IARnc2BXegr"
      },
      "outputs": [],
      "source": [
        "def plot_svm(N=10, ax=None):\n",
        "    X, y = make_blobs(n_samples=200, centers=2,\n",
        "                      random_state=0, cluster_std=0.60)\n",
        "    X = X[:N]\n",
        "    y = y[:N]\n",
        "    model = SVC(kernel='linear', C=1E10)\n",
        "    model.fit(X, y)\n",
        "\n",
        "    ax = ax or plt.gca()\n",
        "    ax.scatter(X[:, 0], X[:, 1], c=y, s=50, cmap='autumn')\n",
        "    ax.set_xlim(-1, 4)\n",
        "    ax.set_ylim(-1, 6)\n",
        "    plot_svc_decision_function(model, ax)\n",
        "\n",
        "fig, ax = plt.subplots(1, 2, figsize=(16, 6))\n",
        "fig.subplots_adjust(left=0.0625, right=0.95, wspace=0.1)\n",
        "for axi, N in zip(ax, [60, 120]):\n",
        "    plot_svm(N, axi)\n",
        "    axi.set_title('N = {0}'.format(N))"
      ]
    },
    {
      "cell_type": "markdown",
      "metadata": {
        "id": "_bVGQz3tXegr"
      },
      "source": [
        "Non-Linear SVM"
      ]
    },
    {
      "cell_type": "code",
      "execution_count": null,
      "metadata": {
        "id": "7tlW9IsLXegs"
      },
      "outputs": [],
      "source": [
        "from sklearn.datasets import make_circles\n",
        "X, y = make_circles(100, factor=.1, noise=.1)\n",
        "\n",
        "clf = SVC(kernel='linear').fit(X, y)\n",
        "\n",
        "plt.scatter(X[:, 0], X[:, 1], c=y, s=50, cmap='autumn')\n",
        "plot_svc_decision_function(clf, plot_support=False)"
      ]
    },
    {
      "cell_type": "code",
      "execution_count": null,
      "metadata": {
        "id": "N5ZguGn3Xegs"
      },
      "outputs": [],
      "source": [
        "from mpl_toolkits import mplot3d\n",
        "\n",
        "def plot_3D(elev=30, azim=30, X=X, y=y):\n",
        "    ax = plt.subplot(projection='3d')\n",
        "    ax.scatter3D(X[:, 0], X[:, 1], r, c=y, s=50, cmap='autumn')\n",
        "    ax.view_init(elev=elev, azim=azim)\n",
        "    ax.set_xlabel('x')\n",
        "    ax.set_ylabel('y')\n",
        "    ax.set_zlabel('r')\n",
        "\n",
        "interact(plot_3D, elev=[-90, 45, 30, 20 , 10], azip=(-180, 180),\n",
        "         X=fixed(X), y=fixed(y))"
      ]
    }
  ],
  "metadata": {
    "kernelspec": {
      "display_name": "base",
      "language": "python",
      "name": "python3"
    },
    "language_info": {
      "codemirror_mode": {
        "name": "ipython",
        "version": 3
      },
      "file_extension": ".py",
      "mimetype": "text/x-python",
      "name": "python",
      "nbconvert_exporter": "python",
      "pygments_lexer": "ipython3",
      "version": "3.11.4"
    },
    "orig_nbformat": 4,
    "colab": {
      "provenance": [],
      "include_colab_link": true
    }
  },
  "nbformat": 4,
  "nbformat_minor": 0
}